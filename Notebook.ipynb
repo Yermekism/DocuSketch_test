{
 "cells": [
  {
   "cell_type": "code",
   "execution_count": 1,
   "id": "32733f03-5fbe-4a3b-9de1-aa542684129a",
   "metadata": {
    "scrolled": true
   },
   "outputs": [],
   "source": [
    "from PIL import Image\n",
    "from IPython.display import Image, display\n",
    "from IPython.core.display import HTML"
   ]
  },
  {
   "cell_type": "code",
   "execution_count": 2,
   "id": "72e7205f-f903-482c-8c83-71403b938b43",
   "metadata": {},
   "outputs": [
    {
     "data": {
      "text/html": [
       "<img src=\"http://localhost:8888/tree/plots/FloorMax-CeilingMax.png\"/>"
      ],
      "text/plain": [
       "<IPython.core.display.Image object>"
      ]
     },
     "execution_count": 2,
     "metadata": {},
     "output_type": "execute_result"
    }
   ],
   "source": [
    "Image(url= \"http://localhost:8888/tree/plots/FloorMax-CeilingMax.png\")"
   ]
  },
  {
   "cell_type": "code",
   "execution_count": 3,
   "id": "c3c77b98-acef-42fa-ba17-acdbe949bcee",
   "metadata": {},
   "outputs": [
    {
     "data": {
      "text/html": [
       "<img src=\"http://localhost:8888/tree/plots/FloorMax-CeilingMin.png\"/>"
      ],
      "text/plain": [
       "<IPython.core.display.Image object>"
      ]
     },
     "execution_count": 3,
     "metadata": {},
     "output_type": "execute_result"
    }
   ],
   "source": [
    "Image(url= \"http://localhost:8888/tree/plots/FloorMax-CeilingMin.png\")"
   ]
  },
  {
   "cell_type": "code",
   "execution_count": 4,
   "id": "ddaac5c3-0e81-427a-b2e3-84bf6127a52d",
   "metadata": {},
   "outputs": [
    {
     "data": {
      "text/html": [
       "<img src=\"http://localhost:8888/tree/plots/FloorMean-CeilingMean.png\"/>"
      ],
      "text/plain": [
       "<IPython.core.display.Image object>"
      ]
     },
     "execution_count": 4,
     "metadata": {},
     "output_type": "execute_result"
    }
   ],
   "source": [
    "Image(url= \"http://localhost:8888/tree/plots/FloorMean-CeilingMean.png\")"
   ]
  },
  {
   "cell_type": "code",
   "execution_count": 5,
   "id": "1006c3a2-f0a5-4708-bf95-9b478ec18476",
   "metadata": {},
   "outputs": [
    {
     "data": {
      "text/html": [
       "<img src=\"http://localhost:8888/tree/plots/FloorMin-CeilingMax.png\"/>"
      ],
      "text/plain": [
       "<IPython.core.display.Image object>"
      ]
     },
     "execution_count": 5,
     "metadata": {},
     "output_type": "execute_result"
    }
   ],
   "source": [
    "Image(url= \"http://localhost:8888/tree/plots/FloorMin-CeilingMax.png\")"
   ]
  },
  {
   "cell_type": "code",
   "execution_count": 6,
   "id": "c887e89e-018c-4a89-9880-225d4d1fcd8b",
   "metadata": {},
   "outputs": [
    {
     "data": {
      "text/html": [
       "<img src=\"http://localhost:8888/tree/plots/Max-min.png\"/>"
      ],
      "text/plain": [
       "<IPython.core.display.Image object>"
      ]
     },
     "execution_count": 6,
     "metadata": {},
     "output_type": "execute_result"
    }
   ],
   "source": [
    "Image(url= \"http://localhost:8888/tree/plots/Max-min.png\")"
   ]
  },
  {
   "cell_type": "code",
   "execution_count": 7,
   "id": "ca0585bc-c8a3-4034-8d24-ddf603bfe19e",
   "metadata": {},
   "outputs": [
    {
     "data": {
      "text/html": [
       "<img src=\"http://localhost:8888/tree/plots/Mean-Ceiling_mean.png\"/>"
      ],
      "text/plain": [
       "<IPython.core.display.Image object>"
      ]
     },
     "execution_count": 7,
     "metadata": {},
     "output_type": "execute_result"
    }
   ],
   "source": [
    "Image(url= \"http://localhost:8888/tree/plots/Mean-Ceiling_mean.png\")"
   ]
  },
  {
   "cell_type": "code",
   "execution_count": 8,
   "id": "4430d724-f041-4189-8da9-4743065fda7a",
   "metadata": {},
   "outputs": [
    {
     "data": {
      "text/html": [
       "<img src=\"http://localhost:8888/tree/plots/Mean-Floor_mean.png\"/>"
      ],
      "text/plain": [
       "<IPython.core.display.Image object>"
      ]
     },
     "execution_count": 8,
     "metadata": {},
     "output_type": "execute_result"
    }
   ],
   "source": [
    "Image(url= \"http://localhost:8888/tree/plots/Mean-Floor_mean.png\")"
   ]
  }
 ],
 "metadata": {
  "kernelspec": {
   "display_name": "Python 3 (ipykernel)",
   "language": "python",
   "name": "python3"
  },
  "language_info": {
   "codemirror_mode": {
    "name": "ipython",
    "version": 3
   },
   "file_extension": ".py",
   "mimetype": "text/x-python",
   "name": "python",
   "nbconvert_exporter": "python",
   "pygments_lexer": "ipython3",
   "version": "3.9.13"
  }
 },
 "nbformat": 4,
 "nbformat_minor": 5
}
